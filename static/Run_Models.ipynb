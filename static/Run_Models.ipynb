{
 "cells": [
  {
   "cell_type": "code",
   "execution_count": 17,
   "metadata": {},
   "outputs": [],
   "source": [
    "# Load Libraries\n",
    "import os\n",
    "import pandas as pd\n",
    "import tensorflow as tf\n",
    "from tensorflow.keras.models import load_model\n",
    "from tensorflow.keras.models import Sequential\n",
    "from tensorflow.keras.utils import to_categorical\n",
    "from tensorflow.keras.layers import Dense\n"
   ]
  },
  {
   "cell_type": "markdown",
   "metadata": {},
   "source": [
    "# Evaluating the loaded model"
   ]
  },
  {
   "cell_type": "code",
   "execution_count": 18,
   "metadata": {},
   "outputs": [],
   "source": [
    "# Model 1: Classification\n",
    "def model1(selFeatures):\n",
    " \n",
    "    # Load the models\n",
    "    model1 = load_model(\"model/best_clf.sav\") \n",
    "        \n",
    "    prediction1 = model1.predict_classes(selFeatures)\n",
    "    print(prediction1)\n",
    "\n",
    "    return jsonify(prediction)\n",
    "\n",
    "Model 2: \n",
    "def model1(selFeatures):\n",
    " \n",
    "    # Load the models\n",
    "    model1 = load_model(\"model/best_dl.h5\") \n",
    "        \n",
    "    prediction1 = model1.predict_classes(selFeatures)\n",
    "    print(prediction1)\n",
    "\n",
    "    return jsonify(prediction)\n",
    "\n",
    "def model3(selFeatures):\n",
    " \n",
    "    # Load the models\n",
    "    model3 = load_model(\"model/best_knn.sav\") \n",
    "        \n",
    "    prediction3 = model3.predict_classes(selFeatures)\n",
    "    print(prediction3)\n",
    "\n",
    "    return jsonify(prediction)\n",
    "\n",
    "def model4(selFeatures):\n",
    " \n",
    "    # Load the models\n",
    "    model4 = load_model(\"model/best_rf.sav\") \n",
    "        \n",
    "    prediction4 = model4.predict_classes(selFeatures)\n",
    "    print(prediction4)\n",
    "\n",
    "    return jsonify(prediction)"
   ]
  },
  {
   "cell_type": "code",
   "execution_count": 43,
   "metadata": {},
   "outputs": [],
   "source": [
    "selFeatures = ([1,0,0,0,1,0,0,1,1,1,1,0,0,0,0,1,0,0,0,1,0,0,0])\n",
    "# selFeatures = ('1000100111100001000100')\n",
    "# selArray = []\n",
    "# for i in selFeatures:\n",
    "#     selArray = selArray.append(i)\n",
    "#     print(i)\n",
    "model1(selFeatures)"
   ]
  },
  {
   "cell_type": "code",
   "execution_count": null,
   "metadata": {},
   "outputs": [],
   "source": []
  }
 ],
 "metadata": {
  "kernelspec": {
   "display_name": "Python 3.6.9 64-bit ('PythonData': conda)",
   "language": "python",
   "name": "python36964bitpythondataconda85574f336fe84089b321fb02028434bc"
  },
  "language_info": {
   "codemirror_mode": {
    "name": "ipython",
    "version": 3
   },
   "file_extension": ".py",
   "mimetype": "text/x-python",
   "name": "python",
   "nbconvert_exporter": "python",
   "pygments_lexer": "ipython3",
   "version": "3.6.9"
  }
 },
 "nbformat": 4,
 "nbformat_minor": 2
}
