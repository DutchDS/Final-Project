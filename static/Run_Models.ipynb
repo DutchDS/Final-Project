{
 "cells": [
  {
   "cell_type": "code",
   "execution_count": 31,
   "metadata": {},
   "outputs": [],
   "source": [
    "# Load Libraries\n",
    "import os\n",
    "import pandas as pd\n",
    "import tensorflow as tf\n",
    "from tensorflow.keras.models import load_model\n",
    "from tensorflow.keras.models import Sequential\n",
    "from tensorflow.keras.utils import to_categorical\n",
    "from tensorflow.keras.layers import Dense\n",
    "import numpy as np\n",
    "import joblib\n",
    "import random"
   ]
  },
  {
   "cell_type": "markdown",
   "metadata": {},
   "source": [
    "# Functions for each model"
   ]
  },
  {
   "cell_type": "code",
   "execution_count": null,
   "metadata": {},
   "outputs": [],
   "source": [
    "loaded_model = joblib.load('model/dropna_age_gender/best_rf.sav')"
   ]
  },
  {
   "cell_type": "code",
   "execution_count": 24,
   "metadata": {},
   "outputs": [],
   "source": [
    "# Model 1: Classification\n",
    "def model1(selFeatures):\n",
    "    Feature_list=[int(i) for i in selFeatures]\n",
    "\n",
    "    test=np.array(Feature_list, dtype=np.int32).reshape(1,-1)\n",
    "\n",
    "    # Load the models\n",
    "    model1 = joblib.load(\"model/best_clf.sav\") \n",
    "        \n",
    "    prediction1 = model1.predict(test)\n",
    "    print(prediction1)\n",
    "\n",
    "    return prediction1 \n",
    "\n",
    "# Model 2: Deep Learning\n",
    "def model2(selFeatures):\n",
    " \n",
    "    Feature_list=[int(i) for i in selFeatures]\n",
    "\n",
    "    test=np.array(Feature_list, dtype=np.int32).reshape(1,-1)\n",
    "\n",
    "    # Load the models\n",
    "    model2 = load_model(\"model/best_dl.h5\") \n",
    "        \n",
    "    prediction2 = model2.predict_classes(test)\n",
    "    print(prediction2)\n",
    "\n",
    "    return prediction2\n",
    "\n",
    "# Model 3: Random Forest\n",
    "def model3(selFeatures):\n",
    "    Feature_list=[int(i) for i in selFeatures]\n",
    "\n",
    "    test=np.array(Feature_list, dtype=np.int32).reshape(1,-1)\n",
    "\n",
    "    # Load the models\n",
    "    model3 = joblib.load(\"model/best_rf.sav\") \n",
    "        \n",
    "    prediction3 = model3.predict(test)\n",
    "    print(prediction3)\n",
    "\n",
    "    return prediction3  \n",
    "\n",
    "def model4(selFeatures):\n",
    "    Feature_list=[int(i) for i in selFeatures]\n",
    "\n",
    "    test=np.array(Feature_list, dtype=np.int32).reshape(1,-1)\n",
    "\n",
    "    # Load the models\n",
    "    model4 = joblib.load(\"model/best_knn.sav\") \n",
    "        \n",
    "    prediction4 = model4.predict(test)\n",
    "    print(prediction4)\n",
    "\n",
    "    return prediction4  \n"
   ]
  },
  {
   "cell_type": "code",
   "execution_count": 6,
   "metadata": {
    "scrolled": true
   },
   "outputs": [
    {
     "data": {
      "text/plain": [
       "array([[1, 0, 0, 0, 1, 0, 0, 1, 1, 1, 1, 0, 0, 0, 0, 1, 0, 0, 0, 0, 1, 0,\n",
       "        0]])"
      ]
     },
     "execution_count": 6,
     "metadata": {},
     "output_type": "execute_result"
    }
   ],
   "source": [
    "# selFeatures = ('10001001111000010000100')\n",
    "# Feature_list=[int(i) for i in selFeatures]\n",
    "\n",
    "# test=np.array(Feature_list, dtype=np.int32).reshape(1,-1)\n",
    "# test"
   ]
  },
  {
   "cell_type": "code",
   "execution_count": 38,
   "metadata": {},
   "outputs": [
    {
     "data": {
      "text/plain": [
       "[0, 0, 0, 0, 0, 0, 0, 0, 0, 1, 0, 0, 0, 1, 0, 0, 1, 0, 0, 0, 0, 0, 0]"
      ]
     },
     "execution_count": 38,
     "metadata": {},
     "output_type": "execute_result"
    }
   ],
   "source": [
    "zero_count = random.randint(0, 23)\n",
    "one_count = 23 - zero_count\n",
    "selFeatures = [0]*zero_count + [1]*one_count\n",
    "random.shuffle(selFeatures)\n",
    "selFeatures\n",
    "# len(my_list)"
   ]
  },
  {
   "cell_type": "code",
   "execution_count": 43,
   "metadata": {},
   "outputs": [
    {
     "name": "stdout",
     "output_type": "stream",
     "text": [
      "[2]\n"
     ]
    },
    {
     "data": {
      "text/plain": [
       "array([2], dtype=int64)"
      ]
     },
     "execution_count": 43,
     "metadata": {},
     "output_type": "execute_result"
    }
   ],
   "source": [
    "model4(selFeatures)"
   ]
  },
  {
   "cell_type": "code",
   "execution_count": null,
   "metadata": {},
   "outputs": [],
   "source": []
  }
 ],
 "metadata": {
  "kernelspec": {
   "display_name": "Python 3",
   "language": "python",
   "name": "python3"
  },
  "language_info": {
   "codemirror_mode": {
    "name": "ipython",
    "version": 3
   },
   "file_extension": ".py",
   "mimetype": "text/x-python",
   "name": "python",
   "nbconvert_exporter": "python",
   "pygments_lexer": "ipython3",
   "version": "3.6.9"
  }
 },
 "nbformat": 4,
 "nbformat_minor": 2
}
