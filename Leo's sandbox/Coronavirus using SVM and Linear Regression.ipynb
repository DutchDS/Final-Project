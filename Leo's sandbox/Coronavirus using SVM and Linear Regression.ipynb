{
 "cells": [
  {
   "cell_type": "code",
   "execution_count": 1,
   "metadata": {},
   "outputs": [],
   "source": [
    "# dependencies\n",
    "import numpy as np\n",
    "import pandas as pd\n",
    "import matplotlib.pyplot as plt\n",
    "import matplotlib.colors as mcolors\n",
    "import random\n",
    "import math\n",
    "import time\n",
    "from sklearn.model_selection import RandomizedSearchCV, train_test_split\n",
    "from sklearn.svm import SVR\n",
    "from sklearn.metrics import mean_squared_error, mean_absolute_error\n",
    "import datetime\n",
    "import operator\n",
    "plt.style.use('seaborn')\n",
    "%matplotlib inline"
   ]
  },
  {
   "cell_type": "code",
   "execution_count": 2,
   "metadata": {},
   "outputs": [],
   "source": [
    "# Loading all the dataset\n",
    "confirmed_cases=pd.read_csv(\"./static/output/df_confirmed.csv\")"
   ]
  },
  {
   "cell_type": "code",
   "execution_count": null,
   "metadata": {},
   "outputs": [],
   "source": []
  },
  {
   "cell_type": "code",
   "execution_count": null,
   "metadata": {},
   "outputs": [],
   "source": []
  },
  {
   "cell_type": "code",
   "execution_count": 3,
   "metadata": {},
   "outputs": [
    {
     "data": {
      "text/html": [
       "<div>\n",
       "<style scoped>\n",
       "    .dataframe tbody tr th:only-of-type {\n",
       "        vertical-align: middle;\n",
       "    }\n",
       "\n",
       "    .dataframe tbody tr th {\n",
       "        vertical-align: top;\n",
       "    }\n",
       "\n",
       "    .dataframe thead th {\n",
       "        text-align: right;\n",
       "    }\n",
       "</style>\n",
       "<table border=\"1\" class=\"dataframe\">\n",
       "  <thead>\n",
       "    <tr style=\"text-align: right;\">\n",
       "      <th></th>\n",
       "      <th>Unnamed: 0</th>\n",
       "      <th>state_name</th>\n",
       "      <th>Country/Region</th>\n",
       "      <th>Lat</th>\n",
       "      <th>Long</th>\n",
       "      <th>1/22/20</th>\n",
       "      <th>1/23/20</th>\n",
       "      <th>1/24/20</th>\n",
       "      <th>1/25/20</th>\n",
       "      <th>1/26/20</th>\n",
       "      <th>...</th>\n",
       "      <th>3/14/20</th>\n",
       "      <th>3/15/20</th>\n",
       "      <th>3/16/20</th>\n",
       "      <th>3/17/20</th>\n",
       "      <th>3/18/20</th>\n",
       "      <th>3/19/20</th>\n",
       "      <th>3/20/20</th>\n",
       "      <th>3/21/20</th>\n",
       "      <th>3/22/20</th>\n",
       "      <th>state</th>\n",
       "    </tr>\n",
       "  </thead>\n",
       "  <tbody>\n",
       "    <tr>\n",
       "      <th>0</th>\n",
       "      <td>0</td>\n",
       "      <td>Washington</td>\n",
       "      <td>US</td>\n",
       "      <td>47.4009</td>\n",
       "      <td>-121.4905</td>\n",
       "      <td>0</td>\n",
       "      <td>0</td>\n",
       "      <td>0</td>\n",
       "      <td>0</td>\n",
       "      <td>0</td>\n",
       "      <td>...</td>\n",
       "      <td>572</td>\n",
       "      <td>643</td>\n",
       "      <td>904</td>\n",
       "      <td>1076</td>\n",
       "      <td>1014</td>\n",
       "      <td>1376</td>\n",
       "      <td>1524</td>\n",
       "      <td>1793</td>\n",
       "      <td>1996</td>\n",
       "      <td>WA</td>\n",
       "    </tr>\n",
       "    <tr>\n",
       "      <th>1</th>\n",
       "      <td>1</td>\n",
       "      <td>New York</td>\n",
       "      <td>US</td>\n",
       "      <td>42.1657</td>\n",
       "      <td>-74.9481</td>\n",
       "      <td>0</td>\n",
       "      <td>0</td>\n",
       "      <td>0</td>\n",
       "      <td>0</td>\n",
       "      <td>0</td>\n",
       "      <td>...</td>\n",
       "      <td>525</td>\n",
       "      <td>732</td>\n",
       "      <td>967</td>\n",
       "      <td>1706</td>\n",
       "      <td>2495</td>\n",
       "      <td>5365</td>\n",
       "      <td>8310</td>\n",
       "      <td>11710</td>\n",
       "      <td>15793</td>\n",
       "      <td>NY</td>\n",
       "    </tr>\n",
       "    <tr>\n",
       "      <th>2</th>\n",
       "      <td>2</td>\n",
       "      <td>California</td>\n",
       "      <td>US</td>\n",
       "      <td>36.1162</td>\n",
       "      <td>-119.6816</td>\n",
       "      <td>0</td>\n",
       "      <td>0</td>\n",
       "      <td>0</td>\n",
       "      <td>0</td>\n",
       "      <td>0</td>\n",
       "      <td>...</td>\n",
       "      <td>340</td>\n",
       "      <td>426</td>\n",
       "      <td>557</td>\n",
       "      <td>698</td>\n",
       "      <td>751</td>\n",
       "      <td>952</td>\n",
       "      <td>1177</td>\n",
       "      <td>1364</td>\n",
       "      <td>1642</td>\n",
       "      <td>CA</td>\n",
       "    </tr>\n",
       "    <tr>\n",
       "      <th>3</th>\n",
       "      <td>3</td>\n",
       "      <td>Massachusetts</td>\n",
       "      <td>US</td>\n",
       "      <td>42.2302</td>\n",
       "      <td>-71.5301</td>\n",
       "      <td>0</td>\n",
       "      <td>0</td>\n",
       "      <td>0</td>\n",
       "      <td>0</td>\n",
       "      <td>0</td>\n",
       "      <td>...</td>\n",
       "      <td>138</td>\n",
       "      <td>164</td>\n",
       "      <td>197</td>\n",
       "      <td>218</td>\n",
       "      <td>218</td>\n",
       "      <td>328</td>\n",
       "      <td>413</td>\n",
       "      <td>525</td>\n",
       "      <td>646</td>\n",
       "      <td>MA</td>\n",
       "    </tr>\n",
       "    <tr>\n",
       "      <th>4</th>\n",
       "      <td>4</td>\n",
       "      <td>Georgia</td>\n",
       "      <td>US</td>\n",
       "      <td>33.0406</td>\n",
       "      <td>-83.6431</td>\n",
       "      <td>0</td>\n",
       "      <td>0</td>\n",
       "      <td>0</td>\n",
       "      <td>0</td>\n",
       "      <td>0</td>\n",
       "      <td>...</td>\n",
       "      <td>66</td>\n",
       "      <td>99</td>\n",
       "      <td>121</td>\n",
       "      <td>146</td>\n",
       "      <td>199</td>\n",
       "      <td>287</td>\n",
       "      <td>420</td>\n",
       "      <td>507</td>\n",
       "      <td>600</td>\n",
       "      <td>GA</td>\n",
       "    </tr>\n",
       "  </tbody>\n",
       "</table>\n",
       "<p>5 rows × 67 columns</p>\n",
       "</div>"
      ],
      "text/plain": [
       "   Unnamed: 0     state_name Country/Region      Lat      Long  1/22/20  \\\n",
       "0           0     Washington             US  47.4009 -121.4905        0   \n",
       "1           1       New York             US  42.1657  -74.9481        0   \n",
       "2           2     California             US  36.1162 -119.6816        0   \n",
       "3           3  Massachusetts             US  42.2302  -71.5301        0   \n",
       "4           4        Georgia             US  33.0406  -83.6431        0   \n",
       "\n",
       "   1/23/20  1/24/20  1/25/20  1/26/20  ...  3/14/20  3/15/20  3/16/20  \\\n",
       "0        0        0        0        0  ...      572      643      904   \n",
       "1        0        0        0        0  ...      525      732      967   \n",
       "2        0        0        0        0  ...      340      426      557   \n",
       "3        0        0        0        0  ...      138      164      197   \n",
       "4        0        0        0        0  ...       66       99      121   \n",
       "\n",
       "   3/17/20  3/18/20  3/19/20  3/20/20  3/21/20  3/22/20  state  \n",
       "0     1076     1014     1376     1524     1793     1996     WA  \n",
       "1     1706     2495     5365     8310    11710    15793     NY  \n",
       "2      698      751      952     1177     1364     1642     CA  \n",
       "3      218      218      328      413      525      646     MA  \n",
       "4      146      199      287      420      507      600     GA  \n",
       "\n",
       "[5 rows x 67 columns]"
      ]
     },
     "execution_count": 3,
     "metadata": {},
     "output_type": "execute_result"
    }
   ],
   "source": [
    "# Display the head of the dataset\n",
    "confirmed_cases.head()"
   ]
  },
  {
   "cell_type": "code",
   "execution_count": 4,
   "metadata": {},
   "outputs": [
    {
     "data": {
      "text/plain": [
       "Index(['Unnamed: 0', 'state_name', 'Country/Region', 'Lat', 'Long', '1/22/20',\n",
       "       '1/23/20', '1/24/20', '1/25/20', '1/26/20', '1/27/20', '1/28/20',\n",
       "       '1/29/20', '1/30/20', '1/31/20', '2/1/20', '2/2/20', '2/3/20', '2/4/20',\n",
       "       '2/5/20', '2/6/20', '2/7/20', '2/8/20', '2/9/20', '2/10/20', '2/11/20',\n",
       "       '2/12/20', '2/13/20', '2/14/20', '2/15/20', '2/16/20', '2/17/20',\n",
       "       '2/18/20', '2/19/20', '2/20/20', '2/21/20', '2/22/20', '2/23/20',\n",
       "       '2/24/20', '2/25/20', '2/26/20', '2/27/20', '2/28/20', '2/29/20',\n",
       "       '3/1/20', '3/2/20', '3/3/20', '3/4/20', '3/5/20', '3/6/20', '3/7/20',\n",
       "       '3/8/20', '3/9/20', '3/10/20', '3/11/20', '3/12/20', '3/13/20',\n",
       "       '3/14/20', '3/15/20', '3/16/20', '3/17/20', '3/18/20', '3/19/20',\n",
       "       '3/20/20', '3/21/20', '3/22/20', 'state'],\n",
       "      dtype='object')"
      ]
     },
     "execution_count": 4,
     "metadata": {},
     "output_type": "execute_result"
    }
   ],
   "source": [
    "# Extracting all the columns using the .heys() function\n",
    "cols = confirmed_cases.keys()\n",
    "cols"
   ]
  },
  {
   "cell_type": "code",
   "execution_count": 5,
   "metadata": {},
   "outputs": [],
   "source": [
    "# Extracting only the dates columns that have information of confirmed, deaths and recovered cases\n",
    "confirmed = confirmed_cases.loc[:,cols[5]:cols[-2]]"
   ]
  },
  {
   "cell_type": "code",
   "execution_count": null,
   "metadata": {},
   "outputs": [],
   "source": []
  },
  {
   "cell_type": "code",
   "execution_count": null,
   "metadata": {},
   "outputs": [],
   "source": []
  },
  {
   "cell_type": "code",
   "execution_count": 6,
   "metadata": {
    "scrolled": true
   },
   "outputs": [
    {
     "data": {
      "text/html": [
       "<div>\n",
       "<style scoped>\n",
       "    .dataframe tbody tr th:only-of-type {\n",
       "        vertical-align: middle;\n",
       "    }\n",
       "\n",
       "    .dataframe tbody tr th {\n",
       "        vertical-align: top;\n",
       "    }\n",
       "\n",
       "    .dataframe thead th {\n",
       "        text-align: right;\n",
       "    }\n",
       "</style>\n",
       "<table border=\"1\" class=\"dataframe\">\n",
       "  <thead>\n",
       "    <tr style=\"text-align: right;\">\n",
       "      <th></th>\n",
       "      <th>1/22/20</th>\n",
       "      <th>1/23/20</th>\n",
       "      <th>1/24/20</th>\n",
       "      <th>1/25/20</th>\n",
       "      <th>1/26/20</th>\n",
       "      <th>1/27/20</th>\n",
       "      <th>1/28/20</th>\n",
       "      <th>1/29/20</th>\n",
       "      <th>1/30/20</th>\n",
       "      <th>1/31/20</th>\n",
       "      <th>...</th>\n",
       "      <th>3/13/20</th>\n",
       "      <th>3/14/20</th>\n",
       "      <th>3/15/20</th>\n",
       "      <th>3/16/20</th>\n",
       "      <th>3/17/20</th>\n",
       "      <th>3/18/20</th>\n",
       "      <th>3/19/20</th>\n",
       "      <th>3/20/20</th>\n",
       "      <th>3/21/20</th>\n",
       "      <th>3/22/20</th>\n",
       "    </tr>\n",
       "  </thead>\n",
       "  <tbody>\n",
       "    <tr>\n",
       "      <th>0</th>\n",
       "      <td>0</td>\n",
       "      <td>0</td>\n",
       "      <td>0</td>\n",
       "      <td>0</td>\n",
       "      <td>0</td>\n",
       "      <td>0</td>\n",
       "      <td>0</td>\n",
       "      <td>0</td>\n",
       "      <td>0</td>\n",
       "      <td>0</td>\n",
       "      <td>...</td>\n",
       "      <td>568</td>\n",
       "      <td>572</td>\n",
       "      <td>643</td>\n",
       "      <td>904</td>\n",
       "      <td>1076</td>\n",
       "      <td>1014</td>\n",
       "      <td>1376</td>\n",
       "      <td>1524</td>\n",
       "      <td>1793</td>\n",
       "      <td>1996</td>\n",
       "    </tr>\n",
       "    <tr>\n",
       "      <th>1</th>\n",
       "      <td>0</td>\n",
       "      <td>0</td>\n",
       "      <td>0</td>\n",
       "      <td>0</td>\n",
       "      <td>0</td>\n",
       "      <td>0</td>\n",
       "      <td>0</td>\n",
       "      <td>0</td>\n",
       "      <td>0</td>\n",
       "      <td>0</td>\n",
       "      <td>...</td>\n",
       "      <td>421</td>\n",
       "      <td>525</td>\n",
       "      <td>732</td>\n",
       "      <td>967</td>\n",
       "      <td>1706</td>\n",
       "      <td>2495</td>\n",
       "      <td>5365</td>\n",
       "      <td>8310</td>\n",
       "      <td>11710</td>\n",
       "      <td>15793</td>\n",
       "    </tr>\n",
       "    <tr>\n",
       "      <th>2</th>\n",
       "      <td>0</td>\n",
       "      <td>0</td>\n",
       "      <td>0</td>\n",
       "      <td>0</td>\n",
       "      <td>0</td>\n",
       "      <td>0</td>\n",
       "      <td>0</td>\n",
       "      <td>0</td>\n",
       "      <td>0</td>\n",
       "      <td>0</td>\n",
       "      <td>...</td>\n",
       "      <td>282</td>\n",
       "      <td>340</td>\n",
       "      <td>426</td>\n",
       "      <td>557</td>\n",
       "      <td>698</td>\n",
       "      <td>751</td>\n",
       "      <td>952</td>\n",
       "      <td>1177</td>\n",
       "      <td>1364</td>\n",
       "      <td>1642</td>\n",
       "    </tr>\n",
       "    <tr>\n",
       "      <th>3</th>\n",
       "      <td>0</td>\n",
       "      <td>0</td>\n",
       "      <td>0</td>\n",
       "      <td>0</td>\n",
       "      <td>0</td>\n",
       "      <td>0</td>\n",
       "      <td>0</td>\n",
       "      <td>0</td>\n",
       "      <td>0</td>\n",
       "      <td>0</td>\n",
       "      <td>...</td>\n",
       "      <td>123</td>\n",
       "      <td>138</td>\n",
       "      <td>164</td>\n",
       "      <td>197</td>\n",
       "      <td>218</td>\n",
       "      <td>218</td>\n",
       "      <td>328</td>\n",
       "      <td>413</td>\n",
       "      <td>525</td>\n",
       "      <td>646</td>\n",
       "    </tr>\n",
       "    <tr>\n",
       "      <th>4</th>\n",
       "      <td>0</td>\n",
       "      <td>0</td>\n",
       "      <td>0</td>\n",
       "      <td>0</td>\n",
       "      <td>0</td>\n",
       "      <td>0</td>\n",
       "      <td>0</td>\n",
       "      <td>0</td>\n",
       "      <td>0</td>\n",
       "      <td>0</td>\n",
       "      <td>...</td>\n",
       "      <td>42</td>\n",
       "      <td>66</td>\n",
       "      <td>99</td>\n",
       "      <td>121</td>\n",
       "      <td>146</td>\n",
       "      <td>199</td>\n",
       "      <td>287</td>\n",
       "      <td>420</td>\n",
       "      <td>507</td>\n",
       "      <td>600</td>\n",
       "    </tr>\n",
       "  </tbody>\n",
       "</table>\n",
       "<p>5 rows × 61 columns</p>\n",
       "</div>"
      ],
      "text/plain": [
       "   1/22/20  1/23/20  1/24/20  1/25/20  1/26/20  1/27/20  1/28/20  1/29/20  \\\n",
       "0        0        0        0        0        0        0        0        0   \n",
       "1        0        0        0        0        0        0        0        0   \n",
       "2        0        0        0        0        0        0        0        0   \n",
       "3        0        0        0        0        0        0        0        0   \n",
       "4        0        0        0        0        0        0        0        0   \n",
       "\n",
       "   1/30/20  1/31/20  ...  3/13/20  3/14/20  3/15/20  3/16/20  3/17/20  \\\n",
       "0        0        0  ...      568      572      643      904     1076   \n",
       "1        0        0  ...      421      525      732      967     1706   \n",
       "2        0        0  ...      282      340      426      557      698   \n",
       "3        0        0  ...      123      138      164      197      218   \n",
       "4        0        0  ...       42       66       99      121      146   \n",
       "\n",
       "   3/18/20  3/19/20  3/20/20  3/21/20  3/22/20  \n",
       "0     1014     1376     1524     1793     1996  \n",
       "1     2495     5365     8310    11710    15793  \n",
       "2      751      952     1177     1364     1642  \n",
       "3      218      328      413      525      646  \n",
       "4      199      287      420      507      600  \n",
       "\n",
       "[5 rows x 61 columns]"
      ]
     },
     "execution_count": 6,
     "metadata": {},
     "output_type": "execute_result"
    }
   ],
   "source": [
    "# check the head of the outbreak cases\n",
    "confirmed.head()"
   ]
  },
  {
   "cell_type": "code",
   "execution_count": 52,
   "metadata": {},
   "outputs": [
    {
     "data": {
      "text/plain": [
       "1/22/20        0\n",
       "1/23/20        0\n",
       "1/24/20        0\n",
       "1/25/20        0\n",
       "1/26/20        0\n",
       "           ...  \n",
       "3/18/20     7703\n",
       "3/19/20    13588\n",
       "3/20/20    18997\n",
       "3/21/20    25378\n",
       "3/22/20    33140\n",
       "Length: 61, dtype: int64"
      ]
     },
     "execution_count": 52,
     "metadata": {},
     "output_type": "execute_result"
    }
   ],
   "source": [
    "total=confirmed.sum(axis=0)\n",
    "total"
   ]
  },
  {
   "cell_type": "code",
   "execution_count": 57,
   "metadata": {},
   "outputs": [],
   "source": [
    "change=total.pct_change()"
   ]
  },
  {
   "cell_type": "code",
   "execution_count": 58,
   "metadata": {},
   "outputs": [],
   "source": [
    "total_df=total.to_frame()\n",
    "change=change.to_list()\n",
    "total_df=total_df.reset_index()"
   ]
  },
  {
   "cell_type": "code",
   "execution_count": 60,
   "metadata": {},
   "outputs": [
    {
     "data": {
      "text/html": [
       "<div>\n",
       "<style scoped>\n",
       "    .dataframe tbody tr th:only-of-type {\n",
       "        vertical-align: middle;\n",
       "    }\n",
       "\n",
       "    .dataframe tbody tr th {\n",
       "        vertical-align: top;\n",
       "    }\n",
       "\n",
       "    .dataframe thead th {\n",
       "        text-align: right;\n",
       "    }\n",
       "</style>\n",
       "<table border=\"1\" class=\"dataframe\">\n",
       "  <thead>\n",
       "    <tr style=\"text-align: right;\">\n",
       "      <th></th>\n",
       "      <th>date</th>\n",
       "      <th>confirmed</th>\n",
       "      <th>pct_change</th>\n",
       "    </tr>\n",
       "  </thead>\n",
       "  <tbody>\n",
       "    <tr>\n",
       "      <th>0</th>\n",
       "      <td>1/22/20</td>\n",
       "      <td>0</td>\n",
       "      <td>NaN</td>\n",
       "    </tr>\n",
       "    <tr>\n",
       "      <th>1</th>\n",
       "      <td>1/23/20</td>\n",
       "      <td>0</td>\n",
       "      <td>NaN</td>\n",
       "    </tr>\n",
       "    <tr>\n",
       "      <th>2</th>\n",
       "      <td>1/24/20</td>\n",
       "      <td>0</td>\n",
       "      <td>NaN</td>\n",
       "    </tr>\n",
       "    <tr>\n",
       "      <th>3</th>\n",
       "      <td>1/25/20</td>\n",
       "      <td>0</td>\n",
       "      <td>NaN</td>\n",
       "    </tr>\n",
       "    <tr>\n",
       "      <th>4</th>\n",
       "      <td>1/26/20</td>\n",
       "      <td>0</td>\n",
       "      <td>NaN</td>\n",
       "    </tr>\n",
       "    <tr>\n",
       "      <th>...</th>\n",
       "      <td>...</td>\n",
       "      <td>...</td>\n",
       "      <td>...</td>\n",
       "    </tr>\n",
       "    <tr>\n",
       "      <th>56</th>\n",
       "      <td>3/18/20</td>\n",
       "      <td>7703</td>\n",
       "      <td>0.214410</td>\n",
       "    </tr>\n",
       "    <tr>\n",
       "      <th>57</th>\n",
       "      <td>3/19/20</td>\n",
       "      <td>13588</td>\n",
       "      <td>0.763988</td>\n",
       "    </tr>\n",
       "    <tr>\n",
       "      <th>58</th>\n",
       "      <td>3/20/20</td>\n",
       "      <td>18997</td>\n",
       "      <td>0.398072</td>\n",
       "    </tr>\n",
       "    <tr>\n",
       "      <th>59</th>\n",
       "      <td>3/21/20</td>\n",
       "      <td>25378</td>\n",
       "      <td>0.335895</td>\n",
       "    </tr>\n",
       "    <tr>\n",
       "      <th>60</th>\n",
       "      <td>3/22/20</td>\n",
       "      <td>33140</td>\n",
       "      <td>0.305855</td>\n",
       "    </tr>\n",
       "  </tbody>\n",
       "</table>\n",
       "<p>61 rows × 3 columns</p>\n",
       "</div>"
      ],
      "text/plain": [
       "       date  confirmed  pct_change\n",
       "0   1/22/20          0         NaN\n",
       "1   1/23/20          0         NaN\n",
       "2   1/24/20          0         NaN\n",
       "3   1/25/20          0         NaN\n",
       "4   1/26/20          0         NaN\n",
       "..      ...        ...         ...\n",
       "56  3/18/20       7703    0.214410\n",
       "57  3/19/20      13588    0.763988\n",
       "58  3/20/20      18997    0.398072\n",
       "59  3/21/20      25378    0.335895\n",
       "60  3/22/20      33140    0.305855\n",
       "\n",
       "[61 rows x 3 columns]"
      ]
     },
     "execution_count": 60,
     "metadata": {},
     "output_type": "execute_result"
    }
   ],
   "source": [
    "total_df=total_df.rename(columns={\"index\":\"date\",0: \"confirmed\"})\n",
    "total_df[\"pct_change\"]=change\n",
    "total_df"
   ]
  },
  {
   "cell_type": "code",
   "execution_count": 61,
   "metadata": {},
   "outputs": [],
   "source": [
    "total_0_df=total_df.loc[total_df['confirmed'] != 0]"
   ]
  },
  {
   "cell_type": "code",
   "execution_count": 63,
   "metadata": {
    "scrolled": true
   },
   "outputs": [
    {
     "data": {
      "text/plain": [
       "([0, 1, 2, 3, 4, 5, 6, 7, 8, 9, 10, 11, 12],\n",
       " <a list of 13 Text xticklabel objects>)"
      ]
     },
     "execution_count": 63,
     "metadata": {},
     "output_type": "execute_result"
    },
    {
     "data": {
      "image/png": "[encoded data removed]",
      "text/plain": [
       "<Figure size 432x288 with 1 Axes>"
      ]
     },
     "metadata": {
      "needs_background": "light"
     },
     "output_type": "display_data"
    }
   ],
   "source": [
    "plt.bar(total_0_df[\"date\"],total_0_df[\"confirmed\"])\n",
    "degrees = 45\n",
    "plt.xticks(rotation=degrees)"
   ]
  },
  {
   "cell_type": "code",
   "execution_count": 64,
   "metadata": {},
   "outputs": [
    {
     "data": {
      "text/plain": [
       "([0, 1, 2, 3, 4, 5, 6, 7, 8, 9, 10, 11, 12],\n",
       " <a list of 13 Text xticklabel objects>)"
      ]
     },
     "execution_count": 64,
     "metadata": {},
     "output_type": "execute_result"
    },
    {
     "data": {
      "image/png": "[encoded data removed]",
      "text/plain": [
       "<Figure size 432x288 with 1 Axes>"
      ]
     },
     "metadata": {
      "needs_background": "light"
     },
     "output_type": "display_data"
    }
   ],
   "source": [
    "plt.bar(total_0_df[\"date\"],total_0_df[\"pct_change\"])\n",
    "degrees = 45\n",
    "plt.xticks(rotation=degrees)"
   ]
  },
  {
   "cell_type": "code",
   "execution_count": null,
   "metadata": {},
   "outputs": [],
   "source": []
  },
  {
   "cell_type": "code",
   "execution_count": 7,
   "metadata": {},
   "outputs": [],
   "source": [
    "# Finding the total confirmed cases, death cases and the recovered cases and append the to an 4 empty lists\n",
    "# Also, calculate the total mortality rate which is the death_sum/confirmed cases\n",
    "dates = confirmed.keys()\n",
    "world_cases= []\n",
    "total_deaths= []\n",
    "mortality_rate= []\n",
    "total_recovered= []\n",
    "\n",
    "for i in dates:\n",
    "    confirmed_sum=confirmed[i].sum()\n",
    "#     death_sum = deaths[i].sum()\n",
    "#     recovered_sum = recoveries[i].sum()\n",
    "    world_cases.append(confirmed_sum)\n",
    "#     total_deaths.append(death_sum)\n",
    "#     mortality_rate.append(death_sum/confirmed_sum)\n",
    "#     total_recovered.append(recovered_sum)"
   ]
  },
  {
   "cell_type": "code",
   "execution_count": 8,
   "metadata": {},
   "outputs": [
    {
     "data": {
      "text/plain": [
       "33140"
      ]
     },
     "execution_count": 8,
     "metadata": {},
     "output_type": "execute_result"
    }
   ],
   "source": [
    "# Display each of the newly created variables\n",
    "confirmed_sum"
   ]
  },
  {
   "cell_type": "code",
   "execution_count": 9,
   "metadata": {},
   "outputs": [],
   "source": [
    "# death_sum\n",
    "# recovered_sum\n",
    "# world_cases"
   ]
  },
  {
   "cell_type": "code",
   "execution_count": 10,
   "metadata": {},
   "outputs": [],
   "source": [
    "# Convert all the dates and the cases in the form of a numpy array\n",
    "days_since_1_22 =np.array([i for i in range(len(dates))]).reshape(-1,1)\n",
    "# world_cases = np.array(world_cases).reshape(-1,1)\n",
    "# total_deaths = np.array(total_deaths).reshape(-1,1)\n",
    "# total_recovered = np.array(total_recovered).reshape(-1,1)"
   ]
  },
  {
   "cell_type": "code",
   "execution_count": 11,
   "metadata": {},
   "outputs": [
    {
     "data": {
      "text/plain": [
       "array([[ 0],\n",
       "       [ 1],\n",
       "       [ 2],\n",
       "       [ 3],\n",
       "       [ 4],\n",
       "       [ 5],\n",
       "       [ 6],\n",
       "       [ 7],\n",
       "       [ 8],\n",
       "       [ 9],\n",
       "       [10],\n",
       "       [11],\n",
       "       [12],\n",
       "       [13],\n",
       "       [14],\n",
       "       [15],\n",
       "       [16],\n",
       "       [17],\n",
       "       [18],\n",
       "       [19],\n",
       "       [20],\n",
       "       [21],\n",
       "       [22],\n",
       "       [23],\n",
       "       [24],\n",
       "       [25],\n",
       "       [26],\n",
       "       [27],\n",
       "       [28],\n",
       "       [29],\n",
       "       [30],\n",
       "       [31],\n",
       "       [32],\n",
       "       [33],\n",
       "       [34],\n",
       "       [35],\n",
       "       [36],\n",
       "       [37],\n",
       "       [38],\n",
       "       [39],\n",
       "       [40],\n",
       "       [41],\n",
       "       [42],\n",
       "       [43],\n",
       "       [44],\n",
       "       [45],\n",
       "       [46],\n",
       "       [47],\n",
       "       [48],\n",
       "       [49],\n",
       "       [50],\n",
       "       [51],\n",
       "       [52],\n",
       "       [53],\n",
       "       [54],\n",
       "       [55],\n",
       "       [56],\n",
       "       [57],\n",
       "       [58],\n",
       "       [59],\n",
       "       [60]])"
      ]
     },
     "execution_count": 11,
     "metadata": {},
     "output_type": "execute_result"
    }
   ],
   "source": [
    "days_since_1_22"
   ]
  },
  {
   "cell_type": "code",
   "execution_count": 12,
   "metadata": {},
   "outputs": [],
   "source": [
    "# world_cases\n",
    "# total_deaths\n",
    "# total_recovered"
   ]
  },
  {
   "cell_type": "code",
   "execution_count": 13,
   "metadata": {},
   "outputs": [],
   "source": [
    "# Future forecasting for the next 10 days\n",
    "days_in_future = 10\n",
    "future_forecast = np.array([i for i in range(len(dates)+days_in_future)]).reshape(-1,1)\n",
    "adjusted_dates = future_forecast[:-10]"
   ]
  },
  {
   "cell_type": "code",
   "execution_count": 14,
   "metadata": {},
   "outputs": [
    {
     "data": {
      "text/plain": [
       "array([[ 0],\n",
       "       [ 1],\n",
       "       [ 2],\n",
       "       [ 3],\n",
       "       [ 4],\n",
       "       [ 5],\n",
       "       [ 6],\n",
       "       [ 7],\n",
       "       [ 8],\n",
       "       [ 9],\n",
       "       [10],\n",
       "       [11],\n",
       "       [12],\n",
       "       [13],\n",
       "       [14],\n",
       "       [15],\n",
       "       [16],\n",
       "       [17],\n",
       "       [18],\n",
       "       [19],\n",
       "       [20],\n",
       "       [21],\n",
       "       [22],\n",
       "       [23],\n",
       "       [24],\n",
       "       [25],\n",
       "       [26],\n",
       "       [27],\n",
       "       [28],\n",
       "       [29],\n",
       "       [30],\n",
       "       [31],\n",
       "       [32],\n",
       "       [33],\n",
       "       [34],\n",
       "       [35],\n",
       "       [36],\n",
       "       [37],\n",
       "       [38],\n",
       "       [39],\n",
       "       [40],\n",
       "       [41],\n",
       "       [42],\n",
       "       [43],\n",
       "       [44],\n",
       "       [45],\n",
       "       [46],\n",
       "       [47],\n",
       "       [48],\n",
       "       [49],\n",
       "       [50],\n",
       "       [51],\n",
       "       [52],\n",
       "       [53],\n",
       "       [54],\n",
       "       [55],\n",
       "       [56],\n",
       "       [57],\n",
       "       [58],\n",
       "       [59],\n",
       "       [60],\n",
       "       [61],\n",
       "       [62],\n",
       "       [63],\n",
       "       [64],\n",
       "       [65],\n",
       "       [66],\n",
       "       [67],\n",
       "       [68],\n",
       "       [69],\n",
       "       [70]])"
      ]
     },
     "execution_count": 14,
     "metadata": {},
     "output_type": "execute_result"
    }
   ],
   "source": [
    "future_forecast"
   ]
  },
  {
   "cell_type": "code",
   "execution_count": 15,
   "metadata": {},
   "outputs": [],
   "source": [
    "# Convert all the integers into datetime for better visualization\n",
    "start = '1/22/2020'\n",
    "start_date = datetime.datetime.strptime(start,'%m/%d/%Y')\n",
    "future_forecast_dates = []\n",
    "for i in range(len(future_forecast)):\n",
    "    future_forecast_dates.append(((start_date+datetime.timedelta(days=i)).strftime('%m/%d/%Y')))"
   ]
  },
  {
   "cell_type": "code",
   "execution_count": 16,
   "metadata": {},
   "outputs": [],
   "source": [
    "# For visualization with the lates data of 22 of march\n",
    "latest_confirmed = confirmed_cases[dates[-1]]\n",
    "# latest_deaths = deaths_reported[dates[-1]]\n",
    "# latest_recoveries = recovered_reported[dates[-1]]"
   ]
  },
  {
   "cell_type": "code",
   "execution_count": 17,
   "metadata": {},
   "outputs": [
    {
     "data": {
      "text/plain": [
       "0      1996\n",
       "1     15793\n",
       "2      1642\n",
       "3       646\n",
       "4       600\n",
       "5       476\n",
       "6       830\n",
       "7      1914\n",
       "8       161\n",
       "9       627\n",
       "10     1049\n",
       "11      509\n",
       "12       90\n",
       "13      244\n",
       "14      302\n",
       "15      196\n",
       "16      505\n",
       "17      221\n",
       "18      152\n",
       "19      201\n",
       "20       99\n",
       "21      102\n",
       "22      190\n",
       "23       65\n",
       "24      169\n",
       "25       51\n",
       "26      355\n",
       "27       83\n",
       "28      381\n",
       "29      223\n",
       "30       48\n",
       "31       67\n",
       "32      181\n",
       "33       64\n",
       "34      837\n",
       "35      100\n",
       "36       52\n",
       "37       21\n",
       "38      165\n",
       "39       47\n",
       "40       42\n",
       "41       89\n",
       "42     1037\n",
       "43      207\n",
       "44       31\n",
       "45       57\n",
       "46       28\n",
       "47       21\n",
       "48       12\n",
       "49       24\n",
       "50      138\n",
       "Name: 3/22/20, dtype: int64"
      ]
     },
     "execution_count": 17,
     "metadata": {},
     "output_type": "execute_result"
    }
   ],
   "source": [
    "latest_confirmed"
   ]
  },
  {
   "cell_type": "code",
   "execution_count": 18,
   "metadata": {},
   "outputs": [],
   "source": [
    "# latest_deaths\n",
    "# latest_recoveries"
   ]
  },
  {
   "cell_type": "code",
   "execution_count": 19,
   "metadata": {},
   "outputs": [
    {
     "data": {
      "text/plain": [
       "['Washington',\n",
       " 'New York',\n",
       " 'California',\n",
       " 'Massachusetts',\n",
       " 'Georgia',\n",
       " 'Colorado',\n",
       " 'Florida',\n",
       " 'New Jersey',\n",
       " 'Oregon',\n",
       " 'Texas',\n",
       " 'Illinois',\n",
       " 'Pennsylvania',\n",
       " 'Iowa',\n",
       " 'Maryland',\n",
       " 'North Carolina',\n",
       " 'South Carolina',\n",
       " 'Tennessee',\n",
       " 'Virginia',\n",
       " 'Arizona',\n",
       " 'Indiana',\n",
       " 'Kentucky',\n",
       " 'District of Columbia',\n",
       " 'Nevada',\n",
       " 'New Hampshire',\n",
       " 'Minnesota',\n",
       " 'Nebraska',\n",
       " 'Ohio',\n",
       " 'Rhode Island',\n",
       " 'Wisconsin',\n",
       " 'Connecticut',\n",
       " 'Hawaii',\n",
       " 'Oklahoma',\n",
       " 'Utah',\n",
       " 'Kansas',\n",
       " 'Louisiana',\n",
       " 'Missouri',\n",
       " 'Vermont',\n",
       " 'Alaska',\n",
       " 'Arkansas',\n",
       " 'Delaware',\n",
       " 'Idaho',\n",
       " 'Maine',\n",
       " 'Michigan',\n",
       " 'Mississippi',\n",
       " 'Montana',\n",
       " 'New Mexico',\n",
       " 'North Dakota',\n",
       " 'South Dakota',\n",
       " 'West Virginia',\n",
       " 'Wyoming',\n",
       " 'Alabama']"
      ]
     },
     "execution_count": 19,
     "metadata": {},
     "output_type": "execute_result"
    }
   ],
   "source": [
    "# Find the list of unique states\n",
    "unique_states = list(confirmed_cases['state_name'].unique())\n",
    "unique_states"
   ]
  },
  {
   "cell_type": "code",
   "execution_count": 20,
   "metadata": {},
   "outputs": [],
   "source": [
    "# The next line of code will basically calculate the total number of confirmed cases by each state\n",
    "state_confirmed_cases = []\n",
    "no_cases = []\n",
    "for i in unique_states:\n",
    "    cases = latest_confirmed[confirmed_cases['state_name']==i].sum()\n",
    "    if cases > 0:\n",
    "        state_confirmed_cases.append(cases)\n",
    "    else: \n",
    "        no_cases.append(i)\n",
    "for i in no_cases:\n",
    "    unique_states.remove(i)\n",
    "unique_states = [k for k,v in sorted(zip(unique_states,state_confirmed_cases),key=operator.itemgetter(1),reverse=True)]\n",
    "for i in range(len(unique_states)):\n",
    "    state_confirmed_cases[i] = latest_confirmed[confirmed_cases['state_name']==unique_states[i]].sum()"
   ]
  },
  {
   "cell_type": "code",
   "execution_count": 21,
   "metadata": {},
   "outputs": [
    {
     "name": "stdout",
     "output_type": "stream",
     "text": [
      "Confirmed Cases by States:\n",
      "New York:15793 cases\n",
      "Washington:1996 cases\n",
      "New Jersey:1914 cases\n",
      "California:1642 cases\n",
      "Illinois:1049 cases\n",
      "Michigan:1037 cases\n",
      "Louisiana:837 cases\n",
      "Florida:830 cases\n",
      "Massachusetts:646 cases\n",
      "Texas:627 cases\n",
      "Georgia:600 cases\n",
      "Pennsylvania:509 cases\n",
      "Tennessee:505 cases\n",
      "Colorado:476 cases\n",
      "Wisconsin:381 cases\n",
      "Ohio:355 cases\n",
      "North Carolina:302 cases\n",
      "Maryland:244 cases\n",
      "Connecticut:223 cases\n",
      "Virginia:221 cases\n",
      "Mississippi:207 cases\n",
      "Indiana:201 cases\n",
      "South Carolina:196 cases\n",
      "Nevada:190 cases\n",
      "Utah:181 cases\n",
      "Minnesota:169 cases\n",
      "Arkansas:165 cases\n",
      "Oregon:161 cases\n",
      "Arizona:152 cases\n",
      "Alabama:138 cases\n",
      "District of Columbia:102 cases\n",
      "Missouri:100 cases\n",
      "Kentucky:99 cases\n",
      "Iowa:90 cases\n",
      "Maine:89 cases\n",
      "Rhode Island:83 cases\n",
      "Oklahoma:67 cases\n",
      "New Hampshire:65 cases\n",
      "Kansas:64 cases\n",
      "New Mexico:57 cases\n",
      "Vermont:52 cases\n",
      "Nebraska:51 cases\n",
      "Hawaii:48 cases\n",
      "Delaware:47 cases\n",
      "Idaho:42 cases\n",
      "Montana:31 cases\n",
      "North Dakota:28 cases\n",
      "Wyoming:24 cases\n",
      "Alaska:21 cases\n",
      "South Dakota:21 cases\n",
      "West Virginia:12 cases\n"
     ]
    }
   ],
   "source": [
    "# number of cases per state\n",
    "print('Confirmed Cases by States:')\n",
    "for i in range(len(unique_states)):\n",
    "    print(f'{unique_states[i]}:{state_confirmed_cases[i]} cases')"
   ]
  },
  {
   "cell_type": "code",
   "execution_count": 22,
   "metadata": {},
   "outputs": [],
   "source": [
    "# handling nan values if there is any\n",
    "nan_indices = []\n",
    "for i in range(len(unique_states)):\n",
    "    if type(unique_states[i])== float:\n",
    "        nan_indices.append(i)\n",
    "unique_states = list(unique_states)\n",
    "state_confirmed_cases = list(state_confirmed_cases)\n",
    "\n",
    "for i in nan_indices:\n",
    "    unique_states.pop(i)\n",
    "    state_confirmed_cases.pop(i)"
   ]
  },
  {
   "cell_type": "code",
   "execution_count": 23,
   "metadata": {},
   "outputs": [
    {
     "data": {
      "image/png": "[encoded data removed]",
      "text/plain": [
       "<Figure size 2304x2304 with 1 Axes>"
      ]
     },
     "metadata": {
      "needs_background": "light"
     },
     "output_type": "display_data"
    }
   ],
   "source": [
    "# Plot a bar graph to see the total confirmed cases across different countries\n",
    "plt.figure(figsize = (32,32))\n",
    "plt.barh(unique_states,state_confirmed_cases)\n",
    "plt.title('Number of Covid-19 Confirmed Cases in States')\n",
    "plt.xlabel('Number of Covid19 Confirmed Cases')\n",
    "plt.show()"
   ]
  },
  {
   "cell_type": "code",
   "execution_count": 24,
   "metadata": {},
   "outputs": [],
   "source": [
    "# Only show 10 States with the most confirmed cases, the rest are grouped into the category named others\n",
    "visual_unique_states = []\n",
    "visual_confirmed_cases = []\n",
    "others = np.sum(state_confirmed_cases[10:])\n",
    "for i in range(len(state_confirmed_cases[:10])):\n",
    "    visual_unique_states.append(unique_states[i])\n",
    "    visual_confirmed_cases.append(state_confirmed_cases[i])\n",
    "visual_unique_states.append('Others')\n",
    "visual_confirmed_cases.append(others)"
   ]
  },
  {
   "cell_type": "code",
   "execution_count": 25,
   "metadata": {},
   "outputs": [
    {
     "data": {
      "image/png": "[encoded data removed]",
      "text/plain": [
       "<Figure size 2304x1296 with 1 Axes>"
      ]
     },
     "metadata": {
      "needs_background": "light"
     },
     "output_type": "display_data"
    }
   ],
   "source": [
    "# Visualize the 10 states\n",
    "plt.figure(figsize =(32,18))\n",
    "plt.barh(visual_unique_states,visual_confirmed_cases)\n",
    "plt.title('Number of Covid-19 Confirmed Cases in States',size=20)\n",
    "plt.show()"
   ]
  },
  {
   "cell_type": "code",
   "execution_count": 27,
   "metadata": {},
   "outputs": [],
   "source": [
    "y = confirmed[\"3/22/20\"]\n",
    "X = confirmed.drop(\"3/22/20\",axis=1)\n",
    "x_train_confirmed, x_test_confirmed, y_train_confirmed, y_test_confirmed = train_test_split(X,y, random_state=42)"
   ]
  },
  {
   "cell_type": "code",
   "execution_count": 28,
   "metadata": {},
   "outputs": [
    {
     "name": "stdout",
     "output_type": "stream",
     "text": [
      "Fitting 3 folds for each of 40 candidates, totalling 120 fits\n"
     ]
    },
    {
     "name": "stderr",
     "output_type": "stream",
     "text": [
      "[Parallel(n_jobs=-1)]: Using backend LokyBackend with 8 concurrent workers.\n",
      "[Parallel(n_jobs=-1)]: Done  34 tasks      | elapsed:    9.4s\n",
      "[Parallel(n_jobs=-1)]: Done 120 out of 120 | elapsed:   39.0s finished\n",
      "C:\\Users\\hxl08\\.conda\\envs\\PythonData\\lib\\site-packages\\sklearn\\model_selection\\_search.py:814: DeprecationWarning: The default of the `iid` parameter will change from True to False in version 0.22 and will be removed in 0.24. This will change numeric results when test-set sizes are unequal.\n",
      "  DeprecationWarning)\n"
     ]
    },
    {
     "data": {
      "text/plain": [
       "RandomizedSearchCV(cv=3, error_score='raise-deprecating',\n",
       "                   estimator=SVR(C=1.0, cache_size=200, coef0=0.0, degree=3,\n",
       "                                 epsilon=0.1, gamma='auto_deprecated',\n",
       "                                 kernel='rbf', max_iter=-1, shrinking=True,\n",
       "                                 tol=0.001, verbose=False),\n",
       "                   iid='warn', n_iter=40, n_jobs=-1,\n",
       "                   param_distributions={'C': [0.01, 0.1, 1, 10],\n",
       "                                        'epsilon': [0.01, 0.1, 1],\n",
       "                                        'gamma': [0.01, 0.1, 1],\n",
       "                                        'kernel': ['poly', 'sigmoid', 'rbf'],\n",
       "                                        'shrinking': [True, False]},\n",
       "                   pre_dispatch='2*n_jobs', random_state=None, refit=True,\n",
       "                   return_train_score=True, scoring='neg_mean_squared_error',\n",
       "                   verbose=1)"
      ]
     },
     "execution_count": 28,
     "metadata": {},
     "output_type": "execute_result"
    }
   ],
   "source": [
    "# Building the SVM model\n",
    "kernel= ['poly','sigmoid','rbf']\n",
    "c = [0.01,0.1,1,10]\n",
    "gamma = [0.01,0.1,1]\n",
    "epsilon = [0.01,0.1,1]\n",
    "shrinking = [True, False]\n",
    "svm_grid = {'kernel':kernel,'C':c,'gamma':gamma,'epsilon':epsilon,'shrinking':shrinking}\n",
    "\n",
    "svm = SVR()\n",
    "svm_search = RandomizedSearchCV(svm,svm_grid,scoring = 'neg_mean_squared_error',cv=3,return_train_score=True,n_jobs=-1,n_iter=40,verbose=1)\n",
    "\n",
    "svm_search.fit(x_train_confirmed,y_train_confirmed)"
   ]
  },
  {
   "cell_type": "code",
   "execution_count": null,
   "metadata": {},
   "outputs": [],
   "source": [
    "svm_search.best_params_"
   ]
  },
  {
   "cell_type": "code",
   "execution_count": null,
   "metadata": {},
   "outputs": [],
   "source": [
    "X.shape"
   ]
  },
  {
   "cell_type": "code",
   "execution_count": null,
   "metadata": {
    "scrolled": true
   },
   "outputs": [],
   "source": [
    "svm_confirmed = svm_search.best_estimator_\n",
    "svm_pred = svm_confirmed.predict(x_test_confirmed)"
   ]
  },
  {
   "cell_type": "code",
   "execution_count": null,
   "metadata": {},
   "outputs": [],
   "source": [
    "svm_confirmed"
   ]
  },
  {
   "cell_type": "code",
   "execution_count": null,
   "metadata": {},
   "outputs": [],
   "source": [
    "svm_pred"
   ]
  },
  {
   "cell_type": "code",
   "execution_count": null,
   "metadata": {},
   "outputs": [],
   "source": []
  }
 ],
 "metadata": {
  "kernelspec": {
   "display_name": "Python 3",
   "language": "python",
   "name": "python3"
  },
  "language_info": {
   "codemirror_mode": {
    "name": "ipython",
    "version": 3
   },
   "file_extension": ".py",
   "mimetype": "text/x-python",
   "name": "python",
   "nbconvert_exporter": "python",
   "pygments_lexer": "ipython3",
   "version": "3.6.9"
  }
 },
 "nbformat": 4,
 "nbformat_minor": 2
}
